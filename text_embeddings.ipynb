{
  "cells": [
    {
      "cell_type": "code",
      "execution_count": null,
      "metadata": {
        "id": "U7fdeeKqwcge"
      },
      "outputs": [],
      "source": [
        "import networkx as nx\n",
        "import numpy as np\n",
        "import pandas as pd\n",
        "import csv as csv\n",
        "import sklearn as sk\n",
        "import nltk\n",
        "\n",
        "import re\n"
      ]
    },
    {
      "cell_type": "markdown",
      "metadata": {
        "id": "K7lJNUxvwcgf"
      },
      "source": [
        "First, let's load all the data we have prepared, and embed both the drug descriptions and protein function descriptions.\n",
        "\n",
        "This step will also include some slight cleaning of the textual data for each drug / protein.\n",
        "\n",
        "Obtaining the embeddings first is required in order to give \"weights\" to the edges in the final network.\n",
        "\n",
        "This will assist in extracting additional, graph specific features."
      ]
    },
    {
      "cell_type": "code",
      "execution_count": null,
      "metadata": {
        "id": "h8dCjLN-wcgg"
      },
      "outputs": [],
      "source": [
        "drug_dict_list = []\n",
        "protein_dict_list = []\n",
        "\n",
        "with open(\"DPI_enriched.csv\", \"r\") as drug_file:\n",
        "    drug_dict_list = [{k: v for k,v in row.items()} for row in csv.DictReader(drug_file, skipinitialspace=True)]\n",
        "\n",
        "with open(\"PPI_enriched.csv\", \"r\") as protein_file:\n",
        "    protein_dict_list = [{k: v for k,v in row.items()} for row in csv.DictReader(protein_file, skipinitialspace=True)]\n"
      ]
    },
    {
      "cell_type": "code",
      "source": [
        "len(drug_dict_list)"
      ],
      "metadata": {
        "colab": {
          "base_uri": "https://localhost:8080/"
        },
        "id": "RnkMKvku2jh7",
        "outputId": "ebcb71b5-8a18-4710-d92e-bd7ddc5a04af"
      },
      "execution_count": null,
      "outputs": [
        {
          "output_type": "execute_result",
          "data": {
            "text/plain": [
              "1677"
            ]
          },
          "metadata": {},
          "execution_count": 57
        }
      ]
    },
    {
      "cell_type": "code",
      "source": [
        "len(protein_dict_list)"
      ],
      "metadata": {
        "colab": {
          "base_uri": "https://localhost:8080/"
        },
        "id": "_NpJWXAC2wmL",
        "outputId": "7e93f249-fd11-44de-ee91-b062da96a82c"
      },
      "execution_count": null,
      "outputs": [
        {
          "output_type": "execute_result",
          "data": {
            "text/plain": [
              "809"
            ]
          },
          "metadata": {},
          "execution_count": 59
        }
      ]
    },
    {
      "cell_type": "markdown",
      "metadata": {
        "id": "tzW60RXZwcgg"
      },
      "source": [
        "Now to do some basic NLP text cleaning before obtaining some embeddings.\n",
        "\n",
        "We remove and clean the text based on the following:\n"
      ]
    },
    {
      "cell_type": "code",
      "execution_count": null,
      "metadata": {
        "colab": {
          "base_uri": "https://localhost:8080/"
        },
        "id": "3Awxz3wZwcgg",
        "outputId": "170246f8-26b9-4882-e2d0-13c3c80b2680"
      },
      "outputs": [
        {
          "output_type": "stream",
          "name": "stderr",
          "text": [
            "[nltk_data] Downloading package stopwords to /root/nltk_data...\n",
            "[nltk_data]   Package stopwords is already up-to-date!\n"
          ]
        }
      ],
      "source": [
        "from nltk.corpus import stopwords\n",
        "stop_words = nltk.download('stopwords')"
      ]
    },
    {
      "cell_type": "markdown",
      "metadata": {
        "id": "Sg2N5eXtwcgh"
      },
      "source": [
        "USE (universal sentence encoder) is capable of handeling punctuation and general sentence structure. We will only clean the text of citations. Some special tokens and general numbers and other characters."
      ]
    },
    {
      "cell_type": "code",
      "execution_count": null,
      "metadata": {
        "id": "HMgdtIQOwcgh"
      },
      "outputs": [],
      "source": [
        "def remove_citations(text):\n",
        "    text = re.sub(\"\\[(.*?)\\]|\\\"(.*?)\\\"\", '', str(text))\n",
        "    text = re.sub(\"\\{ECO:(.*?)\\}\", '', str(text))\n",
        "    text = re.sub(\"\\(PubMed:(.*?)\\)\", '', str(text))\n",
        "    text = text.replace(\" .\", '')\n",
        "\n",
        "    return text\n"
      ]
    },
    {
      "cell_type": "code",
      "execution_count": null,
      "metadata": {
        "id": "sue8E8K2wcgh"
      },
      "outputs": [],
      "source": [
        "def remove_special_characters(text):\n",
        "    return re.sub('[^A-Za-z0-9]+', '', text)\n"
      ]
    },
    {
      "cell_type": "code",
      "execution_count": null,
      "metadata": {
        "id": "WylWCJNWwcgh"
      },
      "outputs": [],
      "source": [
        "def clean_text(text):\n",
        "    cleaned_text = remove_citations(text)\n",
        "    # cleaned_text = remove_special_characters(cleaned_text)\n",
        "    cleaned_text = cleaned_text.replace(\"FUNCTION: \", '')\n",
        "    return cleaned_text\n"
      ]
    },
    {
      "cell_type": "code",
      "execution_count": null,
      "metadata": {
        "id": "-Yj-SpPTwcgi"
      },
      "outputs": [],
      "source": [
        "def clean_text_list(text_list):\n",
        "    return [clean_text(text) for text in text_list]"
      ]
    },
    {
      "cell_type": "code",
      "execution_count": null,
      "metadata": {
        "id": "95c4qA8iwcgi"
      },
      "outputs": [],
      "source": [
        "def clean_dict_text(dict_list, text_key):\n",
        "    text_list = [item[text_key] for item in dict_list]\n",
        "\n",
        "    cleaned_text_list = clean_text_list(text_list)\n",
        "\n",
        "    for item in dict_list:\n",
        "        item[text_key] = cleaned_text_list[dict_list.index(item)]"
      ]
    },
    {
      "cell_type": "code",
      "execution_count": null,
      "metadata": {
        "colab": {
          "base_uri": "https://localhost:8080/"
        },
        "id": "XE2aoPxkwcgi",
        "outputId": "546b8f67-9a36-48ae-9f12-bb1c7694ad1e"
      },
      "outputs": [
        {
          "output_type": "stream",
          "name": "stdout",
          "text": [
            "Lepirudin is a recombinant hirudin formed by 65 amino acids that acts as a highly specific and direct thrombin inhibitor.[L41539,L41569] Natural hirudin is an endogenous anticoagulant found in _Hirudo medicinalis_ leeches.[L41539] Lepirudin is produced in yeast cells and is identical to natural hirudin except for the absence of sulfate on the tyrosine residue at position 63 and the substitution of leucine for isoleucine at position 1 (N-terminal end).[A246609] Lepirudin is used as an anticoagulant in patients with heparin-induced thrombocytopenia (HIT), an immune reaction associated with a high risk of thromboembolic complications.[A3, L41539] HIT is caused by the expression of immunoglobulin G (IgG) antibodies that bind to the complex formed by heparin and platelet factor 4. This activates endothelial cells and platelets and enhances the formation of thrombi.[A246609] Bayer ceased the production of lepirudin (Refludan) effective May 31, 2012.[L41574]\n",
            "FUNCTION: Serine/threonine-protein kinase that phosphorylates SFPQ/PSF, HNRNPA1 and EIF4E. May play a role in the response to environmental stress and cytokines. Appears to regulate translation by phosphorylating EIF4E, thus increasing the affinity of this protein for the 7-methylguanosine-containing mRNA cap. Required for mediating PP2A-inhibition-induced EIF4E phosphorylation. Triggers EIF4E shuttling from cytoplasm to nucleus. Isoform 1 displays a high basal kinase activity, but isoform 2 exhibits a very low kinase activity. Acts as a mediator of the suppressive effects of IFNgamma on hematopoiesis. Negative regulator for signals that control generation of arsenic trioxide As(2)O(3)-dependent apoptosis and anti-leukemic responses. Involved in anti-apoptotic signaling in response to serum withdrawal. {ECO:0000269|PubMed:11154262, ECO:0000269|PubMed:11463832, ECO:0000269|PubMed:12897141, ECO:0000269|PubMed:16111636, ECO:0000269|PubMed:17965020, ECO:0000269|PubMed:18299328, ECO:0000269|PubMed:20823271, ECO:0000269|PubMed:20927323, ECO:0000269|PubMed:21149447}.\n"
          ]
        }
      ],
      "source": [
        "#Sample some texts from dicts:\n",
        "\n",
        "print(drug_dict_list[0][\"description\"])\n",
        "print(protein_dict_list[0][\"function\"])"
      ]
    },
    {
      "cell_type": "code",
      "execution_count": null,
      "metadata": {
        "id": "D_LxnWgBwcgi"
      },
      "outputs": [],
      "source": [
        "clean_dict_text(drug_dict_list, \"description\")\n",
        "clean_dict_text(protein_dict_list, \"function\")"
      ]
    },
    {
      "cell_type": "code",
      "execution_count": null,
      "metadata": {
        "colab": {
          "base_uri": "https://localhost:8080/"
        },
        "id": "hbUGDckgwcgi",
        "outputId": "1201c3ce-55fa-4327-dc28-a79a77f5f1c3"
      },
      "outputs": [
        {
          "output_type": "stream",
          "name": "stdout",
          "text": [
            "Lepirudin is a recombinant hirudin formed by 65 amino acids that acts as a highly specific and direct thrombin inhibitor. Natural hirudin is an endogenous anticoagulant found in _Hirudo medicinalis_ leeches. Lepirudin is produced in yeast cells and is identical to natural hirudin except for the absence of sulfate on the tyrosine residue at position 63 and the substitution of leucine for isoleucine at position 1 (N-terminal end). Lepirudin is used as an anticoagulant in patients with heparin-induced thrombocytopenia (HIT), an immune reaction associated with a high risk of thromboembolic complications. HIT is caused by the expression of immunoglobulin G (IgG) antibodies that bind to the complex formed by heparin and platelet factor 4. This activates endothelial cells and platelets and enhances the formation of thrombi. Bayer ceased the production of lepirudin (Refludan) effective May 31, 2012.\n",
            "Serine/threonine-protein kinase that phosphorylates SFPQ/PSF, HNRNPA1 and EIF4E. May play a role in the response to environmental stress and cytokines. Appears to regulate translation by phosphorylating EIF4E, thus increasing the affinity of this protein for the 7-methylguanosine-containing mRNA cap. Required for mediating PP2A-inhibition-induced EIF4E phosphorylation. Triggers EIF4E shuttling from cytoplasm to nucleus. Isoform 1 displays a high basal kinase activity, but isoform 2 exhibits a very low kinase activity. Acts as a mediator of the suppressive effects of IFNgamma on hematopoiesis. Negative regulator for signals that control generation of arsenic trioxide As(2)O(3)-dependent apoptosis and anti-leukemic responses. Involved in anti-apoptotic signaling in response to serum withdrawal.\n"
          ]
        }
      ],
      "source": [
        "#Sample some texts from dicts:\n",
        "\n",
        "print(drug_dict_list[0][\"description\"])\n",
        "print(protein_dict_list[0][\"function\"])"
      ]
    },
    {
      "cell_type": "markdown",
      "metadata": {
        "id": "vCcx7Rx6wcgj"
      },
      "source": [
        "Now that our text is cleaned up we van transform text into embeddings using USE"
      ]
    },
    {
      "cell_type": "code",
      "execution_count": null,
      "metadata": {
        "id": "7Rs4vPjdwcgj"
      },
      "outputs": [],
      "source": [
        "import tensorflow as tf\n",
        "import tensorflow_hub as hub\n",
        "\n",
        "use_embed = hub.load(\"https://tfhub.dev/google/universal-sentence-encoder-large/5\")"
      ]
    },
    {
      "cell_type": "code",
      "source": [
        "len(drug_dict_list)"
      ],
      "metadata": {
        "colab": {
          "base_uri": "https://localhost:8080/"
        },
        "id": "-LK3Qoga2FqC",
        "outputId": "63f7e670-8108-4c4d-9550-f9520ed869ac"
      },
      "execution_count": null,
      "outputs": [
        {
          "output_type": "execute_result",
          "data": {
            "text/plain": [
              "1677"
            ]
          },
          "metadata": {},
          "execution_count": 50
        }
      ]
    },
    {
      "cell_type": "code",
      "execution_count": null,
      "metadata": {
        "colab": {
          "base_uri": "https://localhost:8080/"
        },
        "id": "BZ2vU8QLwcgj",
        "outputId": "0eb28608-f8c8-40f6-8a47-0ad18e23bcde"
      },
      "outputs": [
        {
          "output_type": "stream",
          "name": "stdout",
          "text": [
            "CPU times: user 7min 11s, sys: 7.62 s, total: 7min 18s\n",
            "Wall time: 4min 44s\n"
          ]
        }
      ],
      "source": [
        "%%time\n",
        "\n",
        "use_drug_vectors = np.array([use_embed([text[\"description\"]]).numpy() for i, text in enumerate(drug_dict_list)])\n",
        "use_protein_vectors = np.array([use_embed([text[\"function\"]]).numpy() for i, text in enumerate(protein_dict_list)])"
      ]
    },
    {
      "cell_type": "code",
      "source": [
        "use_drug_vectors[:3]"
      ],
      "metadata": {
        "colab": {
          "base_uri": "https://localhost:8080/"
        },
        "id": "a7a-i5RryIxN",
        "outputId": "51e501b8-7ebd-42ca-daa4-efda7b7bc953"
      },
      "execution_count": null,
      "outputs": [
        {
          "output_type": "execute_result",
          "data": {
            "text/plain": [
              "array([[[ 0.12059877,  0.02534292, -0.01538776, ..., -0.05198244,\n",
              "         -0.01028922,  0.01146254]],\n",
              "\n",
              "       [[-0.01686497, -0.00703895, -0.02396241, ..., -0.05406497,\n",
              "         -0.05575457,  0.0366965 ]],\n",
              "\n",
              "       [[ 0.0946089 , -0.03260491, -0.01860221, ..., -0.02816161,\n",
              "         -0.09406241,  0.01205715]]], dtype=float32)"
            ]
          },
          "metadata": {},
          "execution_count": 43
        }
      ]
    },
    {
      "cell_type": "code",
      "source": [
        "use_drug_vectors[0].shape"
      ],
      "metadata": {
        "colab": {
          "base_uri": "https://localhost:8080/"
        },
        "id": "6LKqXUAl1scD",
        "outputId": "38551a60-9d3c-4be4-9232-75d33ef963d4"
      },
      "execution_count": null,
      "outputs": [
        {
          "output_type": "execute_result",
          "data": {
            "text/plain": [
              "(1, 512)"
            ]
          },
          "metadata": {},
          "execution_count": 45
        }
      ]
    }
  ],
  "metadata": {
    "kernelspec": {
      "display_name": "env",
      "language": "python",
      "name": "python3"
    },
    "language_info": {
      "codemirror_mode": {
        "name": "ipython",
        "version": 3
      },
      "file_extension": ".py",
      "mimetype": "text/x-python",
      "name": "python",
      "nbconvert_exporter": "python",
      "pygments_lexer": "ipython3",
      "version": "3.9.0"
    },
    "colab": {
      "provenance": []
    }
  },
  "nbformat": 4,
  "nbformat_minor": 0
}