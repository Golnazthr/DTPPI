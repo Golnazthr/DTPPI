{
 "cells": [
  {
   "cell_type": "code",
   "execution_count": 2,
   "metadata": {},
   "outputs": [],
   "source": [
    "import networkx as nx\n",
    "import numpy as np\n",
    "import pandas as pd\n",
    "import csv as csv\n",
    "import datetime\n",
    "import ast\n",
    "\n",
    "from sklearn.metrics.pairwise import cosine_similarity\n",
    "\n",
    "import sklearn.preprocessing"
   ]
  },
  {
   "cell_type": "markdown",
   "metadata": {},
   "source": [
    "Let's create a network using our new files, and the genereted text vectors from USE as link weights. We probably have to normalize the values however. "
   ]
  },
  {
   "cell_type": "code",
   "execution_count": 3,
   "metadata": {},
   "outputs": [],
   "source": [
    "pre_creation_stats_dict = {}"
   ]
  },
  {
   "cell_type": "code",
   "execution_count": 4,
   "metadata": {},
   "outputs": [],
   "source": [
    "import pickle\n",
    "\n",
    "drug_dict_list = None\n",
    "protein_dict_list = None\n",
    "\n",
    "use_drug_vectors = None\n",
    "use_protein_vectors = None\n",
    "\n",
    "with open(\"data/DPI_enriched.csv\", \"r\") as dpi_file:\n",
    "    drug_dict_list = [{k: v for k,v in row.items()}  for row in csv.DictReader(dpi_file, skipinitialspace=True)]\n",
    "\n",
    "with open(\"data/PPI_enriched.csv\", \"r\") as ppi_file:\n",
    "    protein_dict_list = [{k: v for k,v in row.items()} for row in csv.DictReader(ppi_file, skipinitialspace=True)]\n",
    "\n",
    "with open(\"embeddings/use_drug_vectors_pckl\", \"rb\") as use_drug_file:\n",
    "    use_drug_vectors = pickle.load(use_drug_file)\n",
    "\n",
    "with open(\"embeddings/use_protein_vectors_pckl\", \"rb\") as use_protein_file:\n",
    "    use_protein_vectors = pickle.load(use_protein_file)\n",
    "\n",
    "pre_creation_stats_dict[\"drug_dict_list_size\"] = len(drug_dict_list)\n",
    "pre_creation_stats_dict[\"protein_dict_list_size\"] = len(protein_dict_list)"
   ]
  },
  {
   "cell_type": "code",
   "execution_count": 5,
   "metadata": {},
   "outputs": [],
   "source": [
    "for i, vector in enumerate(use_drug_vectors):\n",
    "    drug_dict_list[i][\"description_vector\"] = vector\n",
    "\n",
    "for i, vector in enumerate(use_protein_vectors): \n",
    "    protein_dict_list[i][\"function_vector\"] = vector\n"
   ]
  },
  {
   "cell_type": "code",
   "execution_count": 6,
   "metadata": {},
   "outputs": [],
   "source": [
    "from sklearn.preprocessing import normalize\n",
    "\n",
    "def normalize_use_vectors(vector_list1, vector_list2):\n",
    "    append_list = []\n",
    "    for vector in vector_list1:\n",
    "        append_list.append(vector[0])\n",
    "\n",
    "    for vector in vector_list2:\n",
    "        append_list.append(vector[0])\n",
    "\n",
    "    norm_list = normalize(append_list, norm=\"l2\")\n",
    "\n",
    "    norm_list1 = norm_list[:len(vector_list1-1)]\n",
    "    norm_list2 = norm_list[len(vector_list1-1):]\n",
    "\n",
    "    return norm_list1, norm_list2\n"
   ]
  },
  {
   "cell_type": "markdown",
   "metadata": {},
   "source": [
    "To normalize or not to normalize? "
   ]
  },
  {
   "cell_type": "code",
   "execution_count": null,
   "metadata": {},
   "outputs": [],
   "source": [
    "# print(len(use_drug_vectors))\n",
    "# print(len(use_protein_vectors))\n",
    "\n",
    "# check1, check2 = normalize_use_vectors(use_drug_vectors, use_protein_vectors)\n",
    "\n",
    "# print(len(check1))\n",
    "# print(len(check2))\n",
    "\n",
    "# use_drug_vectors = check1\n",
    "# use_protein_vectors = check2"
   ]
  },
  {
   "cell_type": "code",
   "execution_count": 7,
   "metadata": {},
   "outputs": [],
   "source": [
    "def get_target_list(bad_format):\n",
    "    targets = bad_format\n",
    "\n",
    "    targets = targets.replace('[', '')\n",
    "    targets = targets.replace(']', '')\n",
    "    \n",
    "    # Now remove \"\"\n",
    "    targets = targets.replace('\\'', '')\n",
    "\n",
    "    #Split on comma\n",
    "    targets = [x.strip() for x in targets.split(',')]\n",
    "    #Remove the empty string\n",
    "    targets = list(filter(None, targets))\n",
    "\n",
    "    return targets \n"
   ]
  },
  {
   "cell_type": "code",
   "execution_count": 8,
   "metadata": {},
   "outputs": [],
   "source": [
    "def calculate_text_vector_sim_old(node1, node2, i, sim_type):\n",
    "     if sim_type == \"drug_target\":\n",
    "          a = use_drug_vectors[i]\n",
    "          b = None\n",
    "          \n",
    "          for j, target in enumerate(protein_dict_list):\n",
    "               if target[\"uniprot_id\"] == node2:\n",
    "                    b = use_protein_vectors[j]\n",
    "                    break\n",
    "\n",
    "          return np.linalg.norm(a-b)\n",
    "     \n",
    "     if sim_type == \"protein_protein\":\n",
    "          a = use_protein_vectors[i]\n",
    "          b = None\n",
    "\n",
    "          for j, protein in enumerate(protein_dict_list):\n",
    "               if protein[\"uniprot_id\"] == node2:\n",
    "                    b = use_protein_vectors[j]\n",
    "                    break\n",
    "                    \n",
    "          return np.linalg.norm(a-b)\n"
   ]
  },
  {
   "cell_type": "code",
   "execution_count": 9,
   "metadata": {},
   "outputs": [],
   "source": [
    "def calculate_text_vector_sim(node1, node2, i, sim_type):\n",
    "    if sim_type == \"drug_target\":\n",
    "        a = use_drug_vectors[i]\n",
    "        b = None\n",
    "        \n",
    "        for j, target in enumerate(protein_dict_list):\n",
    "            if target[\"uniprot_id\"] == node2:\n",
    "                b = use_protein_vectors[j]\n",
    "                break\n",
    "        temp = cosine_similarity(a, b)[0][0]\n",
    "        return temp\n",
    "     \n",
    "    if sim_type == \"protein_protein\":\n",
    "        a = use_protein_vectors[i]\n",
    "        b = None\n",
    "\n",
    "        for j, protein in enumerate(protein_dict_list):\n",
    "            if protein[\"uniprot_id\"] == node2:\n",
    "                b = use_protein_vectors[j]\n",
    "                break\n",
    "\n",
    "        temp = cosine_similarity(a, b)[0][0]\n",
    "        return temp"
   ]
  },
  {
   "cell_type": "code",
   "execution_count": 10,
   "metadata": {},
   "outputs": [],
   "source": [
    "def save_graph_to_graphml(graph: nx.Graph, name: str):\n",
    "    now = datetime.datetime.now()\n",
    "    time = now.strftime(\"%Y-%m-%d-%H:%M:%S\")\n",
    "    nx.write_graphml(graph, \"networks/\" + name + \"_\" + time + \".graphml\")"
   ]
  },
  {
   "cell_type": "code",
   "execution_count": 11,
   "metadata": {},
   "outputs": [],
   "source": [
    "def check_protein_is_target(known_targets, current_protein, target_counter = 0):\n",
    "    if current_protein[\"type\"] == \"target\" or current_protein[\"uniprot_id\"] in known_targets:\n",
    "        target_counter += 1\n",
    "        return True\n",
    "    else:\n",
    "        return False"
   ]
  },
  {
   "cell_type": "code",
   "execution_count": 12,
   "metadata": {},
   "outputs": [
    {
     "name": "stdout",
     "output_type": "stream",
     "text": [
      "3267\n",
      "14852\n"
     ]
    }
   ],
   "source": [
    "print(len(drug_dict_list))\n",
    "print(len(protein_dict_list))"
   ]
  },
  {
   "cell_type": "code",
   "execution_count": null,
   "metadata": {},
   "outputs": [],
   "source": [
    "# print(drug_dict_list[0])\n",
    "\n",
    "# print(protein_dict_list[0])"
   ]
  },
  {
   "cell_type": "code",
   "execution_count": 13,
   "metadata": {},
   "outputs": [
    {
     "name": "stdout",
     "output_type": "stream",
     "text": [
      "3267\n"
     ]
    }
   ],
   "source": [
    "drugs_with_desc = set()\n",
    "for drug in drug_dict_list:\n",
    "    drugs_with_desc.add(drug[\"db_id\"])\n",
    "\n",
    "print(len(drugs_with_desc))"
   ]
  },
  {
   "cell_type": "code",
   "execution_count": 14,
   "metadata": {},
   "outputs": [
    {
     "name": "stdout",
     "output_type": "stream",
     "text": [
      "14852\n"
     ]
    }
   ],
   "source": [
    "proteins_with_desc = set()\n",
    "for protein in protein_dict_list:\n",
    "    proteins_with_desc.add(protein[\"uniprot_id\"])\n",
    "\n",
    "print(len(proteins_with_desc))"
   ]
  },
  {
   "cell_type": "code",
   "execution_count": 15,
   "metadata": {},
   "outputs": [],
   "source": [
    "def remove_isolated_nodes(graph: nx.Graph, isolated_nodes = []):\n",
    "    # Remove nodes that have node degree 0\n",
    "    # And remove nodes that only self loop, and don't have any other edges, \n",
    "    # we can do that by checking node degree > 1\n",
    "\n",
    "    network_nodes = list(graph.nodes(data=True))\n",
    "    self_loop_nodes = [val[0] for val in list(nx.selfloop_edges(graph))]\n",
    "\n",
    "    for node_seq in network_nodes:\n",
    "        node = node_seq[0]\n",
    "        if graph.degree(node) == 0:\n",
    "            graph.remove_node(node)\n",
    "            isolated_nodes.append(node_seq)\n",
    "            continue\n",
    "        \n",
    "        if graph.degree(node) == 2 and node in self_loop_nodes:\n",
    "            graph.remove_node(node)\n",
    "            isolated_nodes.append(node_seq)\n",
    "            continue\n",
    "\n",
    "    # These are some weirdo proteins that form a singular subgraph that we don't want so let's remove them\n",
    "    WEIRDOS = [\"Q5T4W7\", \"O60609\", \"O60542\", \"Q9GZZ7\", \"Q8IYV9\", \"A6ND01\"]\n",
    "    graph.remove_nodes_from(WEIRDOS)\n",
    "\n",
    "    isolated_nodes.append(weird for weird in WEIRDOS)\n",
    "    \n",
    "    return graph\n",
    "    "
   ]
  },
  {
   "cell_type": "code",
   "execution_count": 16,
   "metadata": {},
   "outputs": [],
   "source": [
    "def create_networkx_graph_from_data(save: bool):\n",
    "    dppi_graph: nx.Graph = nx.empty_graph()\n",
    "\n",
    "    #First iterate through drugs \n",
    "    known_targets = set()\n",
    "    for i, drug in enumerate(drug_dict_list):\n",
    "        drug_node = drug[\"db_id\"]\n",
    "        dppi_graph.add_node(drug_node, type=\"drug\")\n",
    "\n",
    "        #Create target list from bad formatting in file\n",
    "        # Remove brackets from targets\n",
    "        targets = get_target_list(drug[\"targets\"])\n",
    "        \n",
    "        for target in targets:\n",
    "            if target in proteins_with_desc:\n",
    "                known_targets.add(target)\n",
    "                dppi_graph.add_node(target, type=\"target\")\n",
    "                dppi_graph.add_weighted_edges_from([(drug_node, target, \n",
    "                                                    calculate_text_vector_sim(drug_node, target, i, \"drug_target\"))])\n",
    "\n",
    "    for i, protein in enumerate(protein_dict_list):        \n",
    "        protein_node = protein[\"uniprot_id\"]\n",
    "        dppi_graph.add_node(protein_node, type=protein[\"type\"])\n",
    "\n",
    "        interactions = get_target_list(protein[\"interactions\"])\n",
    "\n",
    "        for interactee in interactions:\n",
    "            if interactee in proteins_with_desc:\n",
    "                if interactee not in known_targets:\n",
    "                    dppi_graph.add_node(interactee, type=\"protein\")\n",
    "                    \n",
    "                dppi_graph.add_weighted_edges_from([(protein_node, interactee, \n",
    "                                                    calculate_text_vector_sim(protein_node, interactee, i, \"protein_protein\"))])\n",
    "\n",
    "    isolated_nodes = []\n",
    "    # Remove isolated and selflooping nodes\n",
    "    dppi_graph = remove_isolated_nodes(dppi_graph, isolated_nodes)\n",
    "\n",
    "    pre_creation_stats_dict[\"removed_isolated_nodes\"] = isolated_nodes\n",
    "\n",
    "    if save: \n",
    "        save_graph_to_graphml(dppi_graph, \"weighted_dppi\")\n",
    "\n",
    "    return dppi_graph\n",
    "   "
   ]
  },
  {
   "cell_type": "code",
   "execution_count": 17,
   "metadata": {},
   "outputs": [],
   "source": [
    "dppi_graph: nx.Graph = create_networkx_graph_from_data(True)"
   ]
  },
  {
   "cell_type": "code",
   "execution_count": 18,
   "metadata": {},
   "outputs": [
    {
     "name": "stdout",
     "output_type": "stream",
     "text": [
      "True\n"
     ]
    }
   ],
   "source": [
    "print(nx.is_connected(dppi_graph))"
   ]
  },
  {
   "cell_type": "code",
   "execution_count": 19,
   "metadata": {},
   "outputs": [
    {
     "data": {
      "text/plain": [
       "138"
      ]
     },
     "execution_count": 19,
     "metadata": {},
     "output_type": "execute_result"
    }
   ],
   "source": [
    "len(pre_creation_stats_dict[\"removed_isolated_nodes\"])"
   ]
  },
  {
   "cell_type": "code",
   "execution_count": 20,
   "metadata": {},
   "outputs": [],
   "source": [
    "# max_eigen = max(nx.adjacency_spectrum(dppi_graph))\n",
    "# print(max_eigen)"
   ]
  },
  {
   "cell_type": "code",
   "execution_count": 21,
   "metadata": {},
   "outputs": [],
   "source": [
    "max_eigen = complex(154.54742, 0)"
   ]
  },
  {
   "cell_type": "markdown",
   "metadata": {},
   "source": [
    "These are some topological node level features we can extract for each node in the dppi network, and write it to a file because these things, they take time"
   ]
  },
  {
   "cell_type": "code",
   "execution_count": 22,
   "metadata": {},
   "outputs": [],
   "source": [
    "\n",
    "# node_degree = dppi_graph.degree()\n",
    "# node_degree_weighted = dppi_graph.degree(weight=\"weight\")\n",
    "# print(\"Calculated node_degree\")\n",
    "\n",
    "# clustering_coefficient = nx.clustering(dppi_graph, weight=\"weight\")\n",
    "# print(\"Calculated clustering coefficient\")\n",
    "# katz_centrality = nx.katz_centrality_numpy(dppi_graph, alpha= 1 / max_eigen.real, weight=\"weight\")\n",
    "# print(\"Calculated katz_centrality\")\n",
    "# closeness_centrality = nx.closeness_centrality(dppi_graph)\n",
    "# print(\"Calculated closeness_centrality\")\n",
    "# # betweenness_centrality = nx.betweenness_centrality(dppi_graph, weight=\"weight\")\n",
    "# # print(\"Calculated betweenness_centrality\")\n",
    "# degree_centrality = nx.degree_centrality(dppi_graph)\n",
    "# print(\"Calculated degree_centrality\")\n",
    "\n",
    "# page_rank = nx.pagerank(dppi_graph)\n",
    "# print(\"Calculated pagerank\")"
   ]
  },
  {
   "cell_type": "code",
   "execution_count": 23,
   "metadata": {},
   "outputs": [],
   "source": [
    "# node_features_dict_list = []\n",
    "# for node in dppi_graph.nodes(data=True):\n",
    "#     nodename = node[0]\n",
    "#     if node[1][\"type\"] == \"drug\":\n",
    "#         node_features_dict_list.append(\n",
    "#             {\n",
    "#                 \"db_id\": nodename,\n",
    "#                 \"topological_features\": {\n",
    "#                     \"degree\": node_degree[nodename],\n",
    "#                     \"degree_weighted\": node_degree_weighted[nodename],\n",
    "#                     \"clustering_coefficient\": clustering_coefficient[nodename],\n",
    "#                     \"katz_centrality\": katz_centrality[nodename],\n",
    "#                     \"closeness_centrality\": closeness_centrality[nodename],\n",
    "#                     \"degree_centrality\": degree_centrality[nodename],\n",
    "#                     \"page_rank\": page_rank[nodename]\n",
    "#                 }\n",
    "#             }\n",
    "#         )\n",
    "\n",
    "# node_features_dict = {}\n",
    "# for node in dppi_graph.nodes(data=True):\n",
    "#     if node[1][\"type\"] == \"drug\":\n",
    "#         nodename = node[0]\n",
    "#         node_features_dict[nodename] = {\n",
    "#             \"degree\": node_degree[nodename],\n",
    "#             \"degree_weighted\": node_degree_weighted[nodename],\n",
    "#             \"clustering_coefficient\": clustering_coefficient[nodename],\n",
    "#             \"katz_centrality\": katz_centrality[nodename],\n",
    "#             \"closeness_centrality\": closeness_centrality[nodename],\n",
    "#             \"degree_centrality\": degree_centrality[nodename],\n",
    "#             \"page_rank\": page_rank[nodename]\n",
    "#         }\n",
    "\n",
    "# node_features_dict\n"
   ]
  },
  {
   "cell_type": "code",
   "execution_count": 24,
   "metadata": {},
   "outputs": [],
   "source": [
    "# with open(\"drug_topological_features_pckl_v2\", \"wb\") as drug_feature_file:\n",
    "#     pickle.dump(node_features_dict, drug_feature_file)"
   ]
  },
  {
   "cell_type": "code",
   "execution_count": 25,
   "metadata": {},
   "outputs": [],
   "source": [
    "# drug_features = None\n",
    "# with open(\"drug_topological_features_pckl_v2\", \"rb\") as drug_feature_file:\n",
    "#     drug_features = pickle.load(drug_feature_file)\n",
    "\n",
    "# drug_features"
   ]
  },
  {
   "cell_type": "code",
   "execution_count": 26,
   "metadata": {},
   "outputs": [],
   "source": [
    "def save_feature_dict_to_binary(feature_dict, name: str):\n",
    "    now = datetime.datetime.now()\n",
    "    time = now.strftime(\"%Y-%m-%d-%H:%M:%S\")\n",
    "    with open(name + \"_\" + time, \"wb\") as drug_feature_file:\n",
    "        pickle.dump(feature_dict, drug_feature_file)"
   ]
  },
  {
   "cell_type": "code",
   "execution_count": 27,
   "metadata": {},
   "outputs": [],
   "source": [
    "def create_node_feature_file_weighted():\n",
    "    node_degree_weighted = dppi_graph.degree(weight=\"weight\")\n",
    "    print(\"Calculated node_degree\")\n",
    "\n",
    "    clustering_coefficient = nx.clustering(dppi_graph, weight=\"weight\")\n",
    "    print(\"Calculated clustering coefficient\")\n",
    "    katz_centrality = nx.katz_centrality_numpy(dppi_graph, alpha= 1 / max_eigen.real, weight=\"weight\")\n",
    "    print(\"Calculated katz_centrality\")\n",
    "    closeness_centrality = nx.closeness_centrality(dppi_graph)\n",
    "    print(\"Calculated closeness_centrality\")\n",
    "    # betweenness_centrality = nx.betweenness_centrality(dppi_graph, weight=\"weight\")\n",
    "    # print(\"Calculated betweenness_centrality\")\n",
    "    degree_centrality = nx.degree_centrality(dppi_graph)\n",
    "    print(\"Calculated degree_centrality\")\n",
    "\n",
    "    page_rank = nx.pagerank(dppi_graph)\n",
    "    print(\"Calculated pagerank\")\n",
    "\n",
    "    node_features_dict = {}\n",
    "    for node in dppi_graph.nodes(data=True):\n",
    "        if node[1][\"type\"] == \"drug\":\n",
    "            nodename = node[0]\n",
    "            node_features_dict[nodename] = {\n",
    "                \"degree_weighted\": node_degree_weighted[nodename],\n",
    "                \"clustering_coefficient\": clustering_coefficient[nodename],\n",
    "                \"katz_centrality\": katz_centrality[nodename],\n",
    "                \"closeness_centrality\": closeness_centrality[nodename],\n",
    "                \"degree_centrality\": degree_centrality[nodename],\n",
    "                \"page_rank\": page_rank[nodename]\n",
    "            }\n",
    "\n",
    "    save_feature_dict_to_binary(node_features_dict, \"node_features_weighted\")\n"
   ]
  },
  {
   "cell_type": "code",
   "execution_count": 28,
   "metadata": {},
   "outputs": [],
   "source": [
    "def create_node_feature_file_unweighted():\n",
    "    node_degree_weighted = dppi_graph.degree()\n",
    "    print(\"Calculated node_degree\")\n",
    "\n",
    "    clustering_coefficient = nx.clustering(dppi_graph)\n",
    "    print(\"Calculated clustering coefficient\")\n",
    "    katz_centrality = nx.katz_centrality_numpy(dppi_graph, alpha= 1 / max_eigen.real)\n",
    "    print(\"Calculated katz_centrality\")\n",
    "    closeness_centrality = nx.closeness_centrality(dppi_graph)\n",
    "    print(\"Calculated closeness_centrality\")\n",
    "    # betweenness_centrality = nx.betweenness_centrality(dppi_graph, weight=\"weight\")\n",
    "    # print(\"Calculated betweenness_centrality\")\n",
    "    degree_centrality = nx.degree_centrality(dppi_graph)\n",
    "    print(\"Calculated degree_centrality\")\n",
    "\n",
    "    page_rank = nx.pagerank(dppi_graph, weight=1)\n",
    "    print(\"Calculated pagerank\")\n",
    "\n",
    "    node_features_dict = {}\n",
    "    for node in dppi_graph.nodes(data=True):\n",
    "        if node[1][\"type\"] == \"drug\":\n",
    "            nodename = node[0]\n",
    "            node_features_dict[nodename] = {\n",
    "                \"degree_weighted\": node_degree_weighted[nodename],\n",
    "                \"clustering_coefficient\": clustering_coefficient[nodename],\n",
    "                \"katz_centrality\": katz_centrality[nodename],\n",
    "                \"closeness_centrality\": closeness_centrality[nodename],\n",
    "                \"degree_centrality\": degree_centrality[nodename],\n",
    "                \"page_rank\": page_rank[nodename]\n",
    "            }\n",
    "\n",
    "    save_feature_dict_to_binary(node_features_dict, \"node_features\")\n"
   ]
  },
  {
   "cell_type": "code",
   "execution_count": 29,
   "metadata": {},
   "outputs": [
    {
     "name": "stdout",
     "output_type": "stream",
     "text": [
      "Calculated node_degree\n",
      "Calculated clustering coefficient\n",
      "Calculated katz_centrality\n",
      "Calculated closeness_centrality\n",
      "Calculated degree_centrality\n",
      "Calculated pagerank\n",
      "Calculated node_degree\n",
      "Calculated clustering coefficient\n",
      "Calculated katz_centrality\n",
      "Calculated closeness_centrality\n",
      "Calculated degree_centrality\n",
      "Calculated pagerank\n"
     ]
    }
   ],
   "source": [
    "create_node_feature_file_unweighted()\n",
    "create_node_feature_file_weighted()"
   ]
  },
  {
   "cell_type": "code",
   "execution_count": 30,
   "metadata": {},
   "outputs": [],
   "source": [
    "def filter_DDIs_not_in_network(network: nx.Graph, filepath_source: str, filepath_target: str, read_delimiter: str = \",\"):\n",
    "    drug_node_set = set()\n",
    "\n",
    "    for node in network.nodes(data=True):\n",
    "        if node[1][\"type\"] == \"drug\":\n",
    "            drug_node_set.add(node[0])\n",
    "\n",
    "    filtered_ddis = []\n",
    "    with open(filepath_source, \"r\") as source_file:\n",
    "        reader = csv.reader(source_file, delimiter=read_delimiter)\n",
    "\n",
    "        for row in reader:\n",
    "            if row[0] in drug_node_set and row[1] in drug_node_set:\n",
    "                filtered_ddis.append({\"drug1\": row[0], \"drug2\": row[1]})\n",
    "\n",
    "    with open(filepath_target, \"w\") as target_file: \n",
    "            writer = csv.DictWriter(target_file, fieldnames=filtered_ddis[0].keys())\n",
    "            writer.writeheader()\n",
    "            writer.writerows(filtered_ddis)\n",
    "\n",
    "# filter_DDIs_not_in_network(nx.read_graphml(\"networks/weighted_dppi_2024-04-11-23:39:20.graphml\"), \n",
    "#                            \"data/misc/DDI_drugbank_small.csv\", \"data/DDIs_filtered.csv\")\n",
    "\n",
    "# filter_DDIs_not_in_network(nx.read_graphml(\"networks/weighted_dppi_2024-04-11-23:39:20.graphml\"), \n",
    "#                            \"data/misc/reliable_negatives.csv\", \"data/negatives_filtered.csv\", read_delimiter=\";\")"
   ]
  },
  {
   "cell_type": "markdown",
   "metadata": {},
   "source": [
    "The following code will mainly concern itself with analyzing the DTPPI graph, generating graphs tables, whatever."
   ]
  },
  {
   "cell_type": "code",
   "execution_count": 20,
   "metadata": {},
   "outputs": [],
   "source": [
    "def node_counter(graph):\n",
    "    total, drug, target, protein = 0, 0, 0, 0\n",
    "\n",
    "    for node in graph.nodes(data=True):\n",
    "        if node[1][\"type\"] == \"drug\":\n",
    "            drug +=1 \n",
    "        \n",
    "        if node[1][\"type\"] == \"target\": \n",
    "            target+=1\n",
    "        \n",
    "        if node[1][\"type\"] == \"protein\":\n",
    "            protein+=1\n",
    "        \n",
    "        total +=1\n",
    "\n",
    "    return total, drug, target, protein"
   ]
  },
  {
   "cell_type": "code",
   "execution_count": 21,
   "metadata": {},
   "outputs": [],
   "source": [
    "def get_edge_types(graph: nx.Graph):\n",
    "    total = 0\n",
    "    drug_target, target_target, target_protein, protein_protein = [], [], [], []\n",
    "\n",
    "    average_weight = 0\n",
    "    highest_weight = (0,0,0)\n",
    "    lowest_weight = (0,0,5)\n",
    "    highest_weight_nsl = (0,0,0)\n",
    "    highest_weight_nsl_non_same_node = (0,0,0)\n",
    "\n",
    "    nodes = graph.nodes(data=True)\n",
    "\n",
    "    for edge in graph.edges():\n",
    "        node1 = edge[0]\n",
    "        node2 = edge[1]\n",
    "        edge_weight = graph.get_edge_data(node1, node2)[\"weight\"]\n",
    "\n",
    "        edge = (node1, node2, edge_weight)\n",
    "\n",
    "        node1_type = nodes[node1][\"type\"]\n",
    "        node2_type = nodes[node2][\"type\"]\n",
    "\n",
    "        if node1_type == \"drug\" and node2_type == \"target\":\n",
    "            drug_target.append(edge)\n",
    "\n",
    "        if node2_type == \"target\" and node2_type == \"drug\":\n",
    "            drug_target.append(edge)\n",
    "\n",
    "        if node1_type == \"target\" and node2_type == \"target\":\n",
    "            target_target.append(edge)\n",
    "\n",
    "        if node1_type == \"target\" and node2_type == \"protein\":\n",
    "            target_protein.append(edge)\n",
    "\n",
    "        if node1_type == \"protein\" and node2_type == \"target\":\n",
    "            target_protein.append(edge)\n",
    "\n",
    "        if node1_type == \"protein\" and node2_type == \"protein\": \n",
    "            protein_protein.append(edge)\n",
    "\n",
    "        total +=1\n",
    "        average_weight += edge[2]\n",
    "\n",
    "        if edge[2] > highest_weight[2]:\n",
    "            highest_weight = edge\n",
    "\n",
    "        if edge[0] != edge[1]:\n",
    "            if edge[2] < 1 and edge[2] > highest_weight_nsl[2]:\n",
    "                highest_weight_nsl_non_same_node = edge\n",
    "\n",
    "        if edge[2] < lowest_weight[2]:\n",
    "            lowest_weight = edge\n",
    "        \n",
    "        if edge[2] < 1 and edge[2] > highest_weight_nsl[2]:\n",
    "            highest_weight_nsl = edge\n",
    "    \n",
    "    return {\n",
    "        \"total\" : total,\n",
    "        \"drug_target\": drug_target,\n",
    "        \"target_target\": target_target,\n",
    "        \"target_protein\": target_protein,\n",
    "        \"protein_protein\": protein_protein,\n",
    "        \"average_weight\": average_weight/total,\n",
    "        \"highest_weight\": highest_weight,\n",
    "        \"highest_weight_nsl\": highest_weight_nsl,\n",
    "        \"highest_weight_nsl_nsn\": highest_weight_nsl_non_same_node,\n",
    "        \"lowest_weight\": lowest_weight\n",
    "    }"
   ]
  },
  {
   "cell_type": "code",
   "execution_count": 22,
   "metadata": {},
   "outputs": [],
   "source": [
    "# DTPPI_graph = nx.read_graphml(\"networks/weighted_dppi_2024-05-06-17:49:32.graphml\")\n",
    "DTPPI_graph = dppi_graph\n",
    "\n",
    "stats_dict = {}"
   ]
  },
  {
   "cell_type": "code",
   "execution_count": 23,
   "metadata": {},
   "outputs": [
    {
     "name": "stdout",
     "output_type": "stream",
     "text": [
      "help\n"
     ]
    }
   ],
   "source": [
    "total_count, drug_count, target_count, protein_count = node_counter(DTPPI_graph)\n",
    "\n",
    "stats_dict[\"total_number_of_nodes\"] = total_count\n",
    "stats_dict[\"number_drug_nodes\"] = drug_count\n",
    "stats_dict[\"number_target_nodes\"] = target_count\n",
    "stats_dict[\"number_protein_nodes\"] = protein_count\n",
    "\n",
    "edge_info_dict = get_edge_types(DTPPI_graph)\n",
    "\n",
    "stats_dict[\"total_edges\"] = edge_info_dict[\"total\"]\n",
    "stats_dict[\"average_edge_weight\"] = edge_info_dict[\"average_weight\"]\n",
    "stats_dict[\"highest_edge_weight\"] = edge_info_dict[\"highest_weight_nsl\"]\n",
    "stats_dict[\"highest_edge_weight_nsl_nsn\"] = edge_info_dict[\"highest_weight_nsl_nsn\"]\n",
    "stats_dict[\"lowest_edge_weight\"] = edge_info_dict[\"lowest_weight\"]\n",
    "\n",
    "stats_dict[\"drug_target_edges_sorted\"] = sorted(edge_info_dict[\"drug_target\"], key=lambda edge: edge[2], reverse=True)\n",
    "stats_dict[\"target_target_edges_sorted\"] = sorted(edge_info_dict[\"target_target\"], key=lambda edge: edge[2], reverse=True)\n",
    "stats_dict[\"target_protein_edges_sorted\"] = sorted(edge_info_dict[\"target_protein\"], key=lambda edge: edge[2], reverse=True)\n",
    "stats_dict[\"protein_protein_edges_sorted\"] = sorted(edge_info_dict[\"protein_protein\"], key=lambda edge: edge[2], reverse=True)\n",
    "\n",
    "print(\"help\")"
   ]
  },
  {
   "cell_type": "code",
   "execution_count": 62,
   "metadata": {},
   "outputs": [
    {
     "data": {
      "text/plain": [
       "{'drug_dict_list_size': 3267,\n",
       " 'protein_dict_list_size': 14852,\n",
       " 'removed_isolated_nodes': [('DB00702', {'type': 'drug'}),\n",
       "  ('DB03323', {'type': 'drug'}),\n",
       "  ('DB05337', {'type': 'drug'}),\n",
       "  ('DB11421', {'type': 'drug'}),\n",
       "  ('Q96SF2', {'type': 'protein'}),\n",
       "  ('Q9NR71', {'type': 'protein'}),\n",
       "  ('Q0GE19', {'type': 'protein'}),\n",
       "  ('Q96QF7', {'type': 'protein'}),\n",
       "  ('Q86W24', {'type': 'protein'}),\n",
       "  ('Q9P2V4', {'type': 'protein'}),\n",
       "  ('O95876', {'type': 'protein'}),\n",
       "  ('Q17RG1', {'type': 'protein'}),\n",
       "  ('Q6UXN8', {'type': 'protein'}),\n",
       "  ('O95780', {'type': 'protein'}),\n",
       "  ('Q330K2', {'type': 'protein'}),\n",
       "  ('Q9NPB1', {'type': 'protein'}),\n",
       "  ('Q5GJ75', {'type': 'protein'}),\n",
       "  ('P0CF51', {'type': 'protein'}),\n",
       "  ('O15178', {'type': 'protein'}),\n",
       "  ('O75648', {'type': 'protein'}),\n",
       "  ('P63145', {'type': 'protein'}),\n",
       "  ('P01733', {'type': 'protein'}),\n",
       "  ('Q96HU8', {'type': 'protein'}),\n",
       "  ('A8MPP1', {'type': 'protein'}),\n",
       "  ('Q7L513', {'type': 'protein'}),\n",
       "  ('Q6UWY2', {'type': 'protein'}),\n",
       "  ('Q6UXC1', {'type': 'protein'}),\n",
       "  ('Q9H4Q4', {'type': 'protein'}),\n",
       "  ('Q96H15', {'type': 'protein'}),\n",
       "  ('Q99463', {'type': 'protein'}),\n",
       "  ('Q99581', {'type': 'protein'}),\n",
       "  ('Q99217', {'type': 'protein'}),\n",
       "  ('Q5VTT2', {'type': 'protein'}),\n",
       "  ('O15204', {'type': 'protein'}),\n",
       "  ('Q8N149', {'type': 'protein'}),\n",
       "  ('Q86VI1', {'type': 'protein'}),\n",
       "  ('Q08AH3', {'type': 'protein'}),\n",
       "  ('Q96M69', {'type': 'protein'}),\n",
       "  ('Q08477', {'type': 'protein'}),\n",
       "  ('Q8NFJ6', {'type': 'protein'}),\n",
       "  ('B2RXH2', {'type': 'protein'}),\n",
       "  ('Q96I76', {'type': 'protein'}),\n",
       "  ('P30480', {'type': 'protein'}),\n",
       "  ('Q9UQQ1', {'type': 'protein'}),\n",
       "  ('Q6UXT9', {'type': 'protein'}),\n",
       "  ('Q9UPC5', {'type': 'protein'}),\n",
       "  ('A0PJX4', {'type': 'protein'}),\n",
       "  ('Q8WTX9', {'type': 'protein'}),\n",
       "  ('A6NK06', {'type': 'protein'}),\n",
       "  ('A2VDF0', {'type': 'protein'}),\n",
       "  ('Q9H777', {'type': 'protein'}),\n",
       "  ('Q9ULC8', {'type': 'protein'}),\n",
       "  ('Q8N6N7', {'type': 'protein'}),\n",
       "  ('Q9Y2G1', {'type': 'protein'}),\n",
       "  ('Q8IU99', {'type': 'protein'}),\n",
       "  ('P22680', {'type': 'protein'}),\n",
       "  ('Q6ZMT4', {'type': 'protein'}),\n",
       "  ('Q13231', {'type': 'protein'}),\n",
       "  ('Q96LB8', {'type': 'protein'}),\n",
       "  ('O75064', {'type': 'protein'}),\n",
       "  ('Q6ZTR7', {'type': 'protein'}),\n",
       "  ('Q99518', {'type': 'protein'}),\n",
       "  ('P30512', {'type': 'protein'}),\n",
       "  ('Q92523', {'type': 'protein'}),\n",
       "  ('P01594', {'type': 'protein'}),\n",
       "  ('Q5VVY1', {'type': 'protein'}),\n",
       "  ('O15229', {'type': 'protein'}),\n",
       "  ('Q7Z6I6', {'type': 'protein'}),\n",
       "  ('Q68DU8', {'type': 'protein'}),\n",
       "  ('Q9H7X0', {'type': 'protein'}),\n",
       "  ('Q9UJA9', {'type': 'protein'}),\n",
       "  ('A6NCL1', {'type': 'protein'}),\n",
       "  ('Q8NDL9', {'type': 'protein'}),\n",
       "  ('O95497', {'type': 'protein'}),\n",
       "  ('Q86VQ6', {'type': 'protein'}),\n",
       "  ('Q96M53', {'type': 'protein'}),\n",
       "  ('Q8NFU3', {'type': 'protein'}),\n",
       "  ('Q6ZMP0', {'type': 'protein'}),\n",
       "  ('Q9NPZ5', {'type': 'protein'}),\n",
       "  ('Q9NQV7', {'type': 'protein'}),\n",
       "  ('Q9BXU0', {'type': 'protein'}),\n",
       "  ('Q8WWP7', {'type': 'protein'}),\n",
       "  ('Q9HBJ8', {'type': 'protein'}),\n",
       "  ('Q9Y2G9', {'type': 'protein'}),\n",
       "  ('P01597', {'type': 'protein'}),\n",
       "  ('A0JD37', {'type': 'protein'}),\n",
       "  ('Q96PP8', {'type': 'protein'}),\n",
       "  ('Q3KR37', {'type': 'protein'}),\n",
       "  ('Q92546', {'type': 'protein'}),\n",
       "  ('Q7Z429', {'type': 'protein'}),\n",
       "  ('Q8IYL9', {'type': 'protein'}),\n",
       "  ('Q8TBP6', {'type': 'protein'}),\n",
       "  ('P12838', {'type': 'protein'}),\n",
       "  ('Q5VWM5', {'type': 'protein'}),\n",
       "  ('Q8N4E7', {'type': 'protein'}),\n",
       "  ('Q8IYN0', {'type': 'protein'}),\n",
       "  ('Q7L5Y1', {'type': 'protein'}),\n",
       "  ('O14633', {'type': 'protein'}),\n",
       "  ('O95969', {'type': 'protein'}),\n",
       "  ('P49895', {'type': 'protein'}),\n",
       "  ('O14960', {'type': 'protein'}),\n",
       "  ('P01593', {'type': 'protein'}),\n",
       "  ('Q96DB9', {'type': 'protein'}),\n",
       "  ('P30459', {'type': 'protein'}),\n",
       "  ('Q9H6B4', {'type': 'protein'}),\n",
       "  ('P63128', {'type': 'protein'}),\n",
       "  ('Q5VXU9', {'type': 'protein'}),\n",
       "  ('P01721', {'type': 'protein'}),\n",
       "  ('Q8IVL8', {'type': 'protein'}),\n",
       "  ('Q9H2W1', {'type': 'protein'}),\n",
       "  ('Q9NP78', {'type': 'protein'}),\n",
       "  ('Q5BKY1', {'type': 'protein'}),\n",
       "  ('Q9HA82', {'type': 'protein'}),\n",
       "  ('Q99954', {'type': 'protein'}),\n",
       "  ('Q9NSY2', {'type': 'protein'}),\n",
       "  ('Q9HBW9', {'type': 'protein'}),\n",
       "  ('Q4ADV7', {'type': 'protein'}),\n",
       "  ('P57789', {'type': 'protein'}),\n",
       "  ('Q9BZJ7', {'type': 'protein'}),\n",
       "  ('Q6P5Q4', {'type': 'protein'}),\n",
       "  ('Q9HBT7', {'type': 'protein'}),\n",
       "  ('A8MYU2', {'type': 'protein'}),\n",
       "  ('Q9Y5Q5', {'type': 'protein'}),\n",
       "  ('Q8N5D6', {'type': 'protein'}),\n",
       "  ('Q9UQF0', {'type': 'protein'}),\n",
       "  ('Q8NGB9', {'type': 'protein'}),\n",
       "  ('Q86UE6', {'type': 'protein'}),\n",
       "  ('Q5DX21', {'type': 'protein'}),\n",
       "  ('Q9NS67', {'type': 'protein'}),\n",
       "  ('Q9UI40', {'type': 'protein'}),\n",
       "  ('Q99983', {'type': 'protein'}),\n",
       "  ('Q8N126', {'type': 'protein'}),\n",
       "  ('Q9BY79', {'type': 'protein'}),\n",
       "  ('Q9BUD6', {'type': 'protein'}),\n",
       "  ('Q9NP95', {'type': 'protein'}),\n",
       "  ('A4D2B0', {'type': 'protein'}),\n",
       "  ('Q96RE9', {'type': 'protein'}),\n",
       "  <generator object remove_isolated_nodes.<locals>.<genexpr> at 0x7fba7992c120>]}"
      ]
     },
     "execution_count": 62,
     "metadata": {},
     "output_type": "execute_result"
    }
   ],
   "source": [
    "pre_creation_stats_dict"
   ]
  },
  {
   "cell_type": "code",
   "execution_count": 26,
   "metadata": {},
   "outputs": [],
   "source": [
    "\n",
    "drug_targets_edges_values = []\n",
    "for edge_value in stats_dict[\"drug_target_edges_sorted\"]:\n",
    "    drug_targets_edges_values.append(edge_value[2])\n",
    "\n",
    "targets_targets_edges_values = []\n",
    "for edge_value in stats_dict[\"target_target_edges_sorted\"]:\n",
    "    targets_targets_edges_values.append(edge_value[2])\n",
    "\n",
    "target_proteins_edges_values = []\n",
    "for edge_value in stats_dict[\"target_protein_edges_sorted\"]:\n",
    "    target_proteins_edges_values.append(edge_value[2])\n",
    "\n",
    "proteins_proteins_edges_values = []\n",
    "for edge_value in stats_dict[\"protein_protein_edges_sorted\"]:\n",
    "    proteins_proteins_edges_values.append(edge_value[2])"
   ]
  },
  {
   "cell_type": "code",
   "execution_count": 32,
   "metadata": {},
   "outputs": [],
   "source": [
    "import matplotlib.pyplot as plt\n",
    "import seaborn as sns\n",
    "sns.set_style(\"ticks\")"
   ]
  },
  {
   "cell_type": "code",
   "execution_count": 61,
   "metadata": {},
   "outputs": [
    {
     "data": {
      "image/png": "[encoded data removed]",
      "text/plain": [
       "<Figure size 640x480 with 4 Axes>"
      ]
     },
     "metadata": {},
     "output_type": "display_data"
    }
   ],
   "source": [
    "fig, axs = plt.subplots(2, 2)\n",
    "axs[0, 0].hist(drug_targets_edges_values, bins=30, color='royalblue', edgecolor='black', alpha=0.7)\n",
    "axs[0, 0].set_title(\"drug-target\")\n",
    "axs[0, 1].hist(targets_targets_edges_values, bins=30, color='darkorange', edgecolor='black', alpha=0.7)\n",
    "axs[0, 1].set_title(\"target-target\")\n",
    "axs[1, 0].hist(target_proteins_edges_values, bins=30, color='lime', edgecolor='black', alpha=0.7)\n",
    "axs[1, 0].set_title(\"target-proteins\")\n",
    "axs[1, 1].hist(proteins_proteins_edges_values, bins=30, color='crimson', edgecolor='black', alpha=0.7)\n",
    "axs[1, 1].set_title(\"proteins-proteins\")\n",
    "\n",
    "fig.supxlabel('weights')\n",
    "fig.supylabel('nodes')\n",
    "\n",
    "fig.tight_layout()\n",
    "sns.despine()\n",
    "\n"
   ]
  },
  {
   "cell_type": "code",
   "execution_count": 59,
   "metadata": {},
   "outputs": [
    {
     "data": {
      "image/png": "[encoded data removed]",
      "text/plain": [
       "<Figure size 640x480 with 1 Axes>"
      ]
     },
     "metadata": {},
     "output_type": "display_data"
    }
   ],
   "source": [
    "values = [drug_targets_edges_values, targets_targets_edges_values, target_proteins_edges_values, proteins_proteins_edges_values]\n",
    "\n",
    "plt.hist(values, bins=20, edgecolor='black', alpha=0.7)\n",
    "plt.xlabel(\"weights\")\n",
    "plt.ylabel(\"nodes\")\n",
    "sns.despine()"
   ]
  }
 ],
 "metadata": {
  "kernelspec": {
   "display_name": "env",
   "language": "python",
   "name": "python3"
  },
  "language_info": {
   "codemirror_mode": {
    "name": "ipython",
    "version": 3
   },
   "file_extension": ".py",
   "mimetype": "text/x-python",
   "name": "python",
   "nbconvert_exporter": "python",
   "pygments_lexer": "ipython3",
   "version": "3.9.0"
  }
 },
 "nbformat": 4,
 "nbformat_minor": 2
}
